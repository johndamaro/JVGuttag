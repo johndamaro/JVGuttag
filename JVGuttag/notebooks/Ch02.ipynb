{
 "cells": [
  {
   "cell_type": "markdown",
   "id": "eae9c12a-1132-4220-944a-c6eeb56c56fa",
   "metadata": {},
   "source": [
    "# Chapter 02"
   ]
  },
  {
   "cell_type": "code",
   "execution_count": 6,
   "id": "844ab30f-f62a-43fe-8c55-ca0400eaf46c",
   "metadata": {},
   "outputs": [
    {
     "name": "stdout",
     "output_type": "stream",
     "text": [
      "How many times should I print the letter X?  4\n"
     ]
    },
    {
     "name": "stdout",
     "output_type": "stream",
     "text": [
      "XXXX\n"
     ]
    }
   ],
   "source": [
    "numXs = int(input('How many times should I print the letter X? '))\n",
    "toPrint = ''\n",
    "counter = 0\n",
    "while counter <= abs(numXs) - 1:\n",
    "    toPrint += 'X'\n",
    "    counter += 1\n",
    "print(toPrint)"
   ]
  },
  {
   "cell_type": "code",
   "execution_count": 10,
   "id": "4e5e2192-010f-4199-9521-aeca71adfe18",
   "metadata": {},
   "outputs": [
    {
     "name": "stdout",
     "output_type": "stream",
     "text": [
      "132 is divisible by 11 and 12\n"
     ]
    }
   ],
   "source": [
    "#Find a positive integer that is divisible by both 11 and 12\n",
    "x = 1\n",
    "while True:\n",
    "    if x % 11 == 0 and x % 12 == 0:\n",
    "        break\n",
    "    x += 1\n",
    "print(x, 'is divisible by 11 and 12')"
   ]
  },
  {
   "cell_type": "code",
   "execution_count": 2,
   "id": "10439042-7ee5-4c02-aacb-3115c06f538d",
   "metadata": {},
   "outputs": [
    {
     "name": "stdout",
     "output_type": "stream",
     "text": [
      "\n",
      "The largest odd value is 9.\n"
     ]
    }
   ],
   "source": [
    "#Ask user to input 10 integers and return the largest odd number.\n",
    "nums = []\n",
    "counter = 0\n",
    "while counter < 10:\n",
    "    nums.append(int(input('Please input 10 integers: ')))\n",
    "    counter += 1\n",
    "odds = [x for x in nums if x % 2 == 1]\n",
    "if len(odds) > 0:\n",
    "    print(f'\\nThe largest odd value is {max(odds)}.'.format())\n",
    "else:\n",
    "    print('\\nNone of the entered values are odd.')"
   ]
  },
  {
   "cell_type": "markdown",
   "id": "ffa19c85-d73e-49d5-8993-418283747dd3",
   "metadata": {},
   "source": [
    "## "
   ]
  }
 ],
 "metadata": {
  "interpreter": {
   "hash": "aee8b7b246df8f9039afb4144a1f6fd8d2ca17a180786b69acc140d282b71a49"
  },
  "kernelspec": {
   "display_name": "Python 3.9.5 64-bit",
   "language": "python",
   "name": "python3"
  },
  "language_info": {
   "codemirror_mode": {
    "name": "ipython",
    "version": 3
   },
   "file_extension": ".py",
   "mimetype": "text/x-python",
   "name": "python",
   "nbconvert_exporter": "python",
   "pygments_lexer": "ipython3",
   "version": "3.9.5"
  }
 },
 "nbformat": 4,
 "nbformat_minor": 5
}
