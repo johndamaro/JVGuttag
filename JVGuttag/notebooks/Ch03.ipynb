{
 "cells": [
  {
   "cell_type": "markdown",
   "id": "9af72de0-df47-426c-803a-b1260ee3f5d0",
   "metadata": {},
   "source": [
    "# Ch 03"
   ]
  },
  {
   "cell_type": "code",
   "execution_count": null,
   "id": "d2d11fb6-f4a2-40ce-b3f9-edbd85d82f14",
   "metadata": {},
   "outputs": [],
   "source": []
  }
 ],
 "metadata": {
  "kernelspec": {
   "display_name": "Python 3 (ipykernel)",
   "language": "python",
   "name": "python3"
  },
  "language_info": {
   "codemirror_mode": {
    "name": "ipython",
    "version": 3
   },
   "file_extension": ".py",
   "mimetype": "text/x-python",
   "name": "python",
   "nbconvert_exporter": "python",
   "pygments_lexer": "ipython3",
   "version": "3.8.10"
  }
 },
 "nbformat": 4,
 "nbformat_minor": 5
}
