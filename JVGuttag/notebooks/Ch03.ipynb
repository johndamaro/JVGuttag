{
 "cells": [
  {
   "cell_type": "markdown",
   "id": "9af72de0-df47-426c-803a-b1260ee3f5d0",
   "metadata": {},
   "source": [
    "# Ch 03\n",
    "### Some Simple Numerical Programs"
   ]
  },
  {
   "cell_type": "code",
   "execution_count": 8,
   "id": "d2d11fb6-f4a2-40ce-b3f9-edbd85d82f14",
   "metadata": {},
   "outputs": [
    {
     "name": "stdout",
     "output_type": "stream",
     "text": [
      "Cube root of 7406961012236344616 is 1949306\n"
     ]
    }
   ],
   "source": [
    "#Find the cube root of a perfect cube\n",
    "x = int(input('Enter an integer: '))\n",
    "ans = 0\n",
    "while ans ** 3 < abs(x):\n",
    "    ans += 1\n",
    "if ans ** 3 != abs(x):\n",
    "    print(x, 'is not a perfect cube')\n",
    "else:\n",
    "    if x < 0:\n",
    "        ans = -ans\n",
    "    print('Cube root of', x,'is', ans)"
   ]
  },
  {
   "cell_type": "code",
   "execution_count": 2,
   "id": "74ff3e70",
   "metadata": {},
   "outputs": [
    {
     "name": "stdout",
     "output_type": "stream",
     "text": [
      "8**1 = 8\n",
      "2**3 = 8\n"
     ]
    }
   ],
   "source": [
    "num = int(input(\"Enter an integer: \"))\n",
    "pwr = 1\n",
    "root = 0\n",
    "found = False\n",
    "if num < 0:\n",
    "    neg = True\n",
    "else:\n",
    "    neg = False\n",
    "while pwr < 6:\n",
    "    while abs(root**pwr) <= abs(num):\n",
    "        if root**pwr == num:\n",
    "            print(str(root) + \"**\" + str(pwr) + \" = \" + str(num))\n",
    "            found = True\n",
    "        if abs(root) > abs(num):\n",
    "            root = 0\n",
    "        elif neg:\n",
    "            root -= 1\n",
    "        else:\n",
    "            root +=1\n",
    "    pwr += 1\n",
    "    root = 0\n",
    "if not found:\n",
    "    print(\"No pair of integers, 'root' and 'pwr', exists such that 0 < pwr < 6 and root**pwr = \" + str(num))"
   ]
  },
  {
   "cell_type": "code",
   "execution_count": 3,
   "id": "c669f8d4",
   "metadata": {},
   "outputs": [
    {
     "name": "stdout",
     "output_type": "stream",
     "text": [
      "Cube root of 8 is 2\n"
     ]
    }
   ],
   "source": [
    "#Find the cube root of a perfect cuve\n",
    "x = int(input('Enter an integer: '))\n",
    "for ans in range(0, abs(x)+1):\n",
    "    if ans**3 >= abs(x):\n",
    "        break\n",
    "if ans**3 != abs(x):\n",
    "    print(x, 'is not a perfect cube')\n",
    "else:\n",
    "    if x < 0:\n",
    "        ans = -ans\n",
    "    print('Cube root of', x,'is', ans)"
   ]
  },
  {
   "cell_type": "code",
   "execution_count": 6,
   "id": "7ae41285",
   "metadata": {},
   "outputs": [
    {
     "name": "stdout",
     "output_type": "stream",
     "text": [
      "6.753\n"
     ]
    }
   ],
   "source": [
    "#Finger exercise\n",
    "s = '1.23,2.4,3.123'\n",
    "total = 0\n",
    "for i in s.split(','):\n",
    "    total += float(i)\n",
    "print(total)"
   ]
  },
  {
   "cell_type": "code",
   "execution_count": 11,
   "id": "2c9863aa",
   "metadata": {},
   "outputs": [
    {
     "name": "stdout",
     "output_type": "stream",
     "text": [
      "numGuesses = 351363\n",
      "351.36299999860324 is close to the square root of  123456\n"
     ]
    }
   ],
   "source": [
    "#Approximating the square root\n",
    "x = 123456\n",
    "epsilon = 0.1\n",
    "step = epsilon**3\n",
    "numGuesses = 0\n",
    "ans = 0.0\n",
    "\n",
    "while abs(ans**2 - x) >= epsilon and ans*ans <= x:\n",
    "    ans += step\n",
    "    numGuesses +=1\n",
    "print('numGuesses =', numGuesses)\n",
    "\n",
    "if abs(ans**2 - x) >= epsilon:\n",
    "    print('Failed on square root of ', x)\n",
    "else:\n",
    "    print(ans, 'is close to the square root of ', x)"
   ]
  },
  {
   "cell_type": "code",
   "execution_count": 12,
   "id": "23439fde",
   "metadata": {},
   "outputs": [
    {
     "name": "stdout",
     "output_type": "stream",
     "text": [
      "low = 0.0 high = 25 ans = 12.5\n",
      "low = 0.0 high = 12.5 ans = 6.25\n",
      "low = 0.0 high = 6.25 ans = 3.125\n",
      "low = 3.125 high = 6.25 ans = 4.6875\n",
      "low = 4.6875 high = 6.25 ans = 5.46875\n",
      "low = 4.6875 high = 5.46875 ans = 5.078125\n",
      "low = 4.6875 high = 5.078125 ans = 4.8828125\n",
      "low = 4.8828125 high = 5.078125 ans = 4.98046875\n",
      "low = 4.98046875 high = 5.078125 ans = 5.029296875\n",
      "low = 4.98046875 high = 5.029296875 ans = 5.0048828125\n",
      "low = 4.98046875 high = 5.0048828125 ans = 4.99267578125\n",
      "low = 4.99267578125 high = 5.0048828125 ans = 4.998779296875\n",
      "low = 4.998779296875 high = 5.0048828125 ans = 5.0018310546875\n",
      "numGuesses = 13\n",
      "5.00030517578125 is close to the square root of 25\n"
     ]
    }
   ],
   "source": [
    "#Bisection search to approximate square root\n",
    "x = 25\n",
    "epsilon = 0.01\n",
    "numGuesses = 0\n",
    "low = 0.0\n",
    "high = max(1.0, x)\n",
    "ans = (high + low) / 2.0\n",
    "\n",
    "while abs(ans**2 - x) >= epsilon:\n",
    "    print('low =', low, 'high =', high, 'ans =', ans)\n",
    "    numGuesses += 1\n",
    "    if ans**2 < x:\n",
    "        low = ans\n",
    "    else:\n",
    "        high = ans\n",
    "    ans = (high + low) / 2.0\n",
    "print('numGuesses =', numGuesses)\n",
    "print(ans, 'is close to the square root of', x)"
   ]
  },
  {
   "cell_type": "code",
   "execution_count": 16,
   "id": "abf748c0",
   "metadata": {},
   "outputs": [
    {
     "name": "stdout",
     "output_type": "stream",
     "text": [
      "low = -27 high = 1.0 ans = -13.0\n",
      "low = -13.0 high = 1.0 ans = -6.0\n",
      "low = -6.0 high = 1.0 ans = -2.5\n",
      "low = -6.0 high = -2.5 ans = -4.25\n",
      "low = -4.25 high = -2.5 ans = -3.375\n",
      "low = -3.375 high = -2.5 ans = -2.9375\n",
      "low = -3.375 high = -2.9375 ans = -3.15625\n",
      "low = -3.15625 high = -2.9375 ans = -3.046875\n",
      "low = -3.046875 high = -2.9375 ans = -2.9921875\n",
      "low = -3.046875 high = -2.9921875 ans = -3.01953125\n",
      "low = -3.01953125 high = -2.9921875 ans = -3.005859375\n",
      "low = -3.005859375 high = -2.9921875 ans = -2.9990234375\n",
      "low = -3.005859375 high = -2.9990234375 ans = -3.00244140625\n",
      "low = -3.00244140625 high = -2.9990234375 ans = -3.000732421875\n",
      "numGuesses = 14\n",
      "-2.9998779296875 is close to the square root of -27\n"
     ]
    }
   ],
   "source": [
    "#Bisection search to approximate cube root of positive and negative numbers\n",
    "x = -27\n",
    "epsilon = 0.01\n",
    "numGuesses = 0\n",
    "low = min(0.0, x)\n",
    "high = max(1.0, x)\n",
    "ans = (high + low) / 2.0\n",
    "\n",
    "while abs(ans**3 - x) >= epsilon:\n",
    "    print('low =', low, 'high =', high, 'ans =', ans)\n",
    "    numGuesses += 1\n",
    "    if ans**3 < x:\n",
    "        low = ans\n",
    "    else:\n",
    "        high = ans\n",
    "    ans = (high + low) / 2.0\n",
    "print('numGuesses =', numGuesses)\n",
    "print(ans, 'is close to the square root of', x)"
   ]
  },
  {
   "cell_type": "code",
   "execution_count": null,
   "id": "97dd56f9",
   "metadata": {},
   "outputs": [],
   "source": []
  }
 ],
 "metadata": {
  "interpreter": {
   "hash": "aee8b7b246df8f9039afb4144a1f6fd8d2ca17a180786b69acc140d282b71a49"
  },
  "kernelspec": {
   "display_name": "Python 3.9.5 64-bit",
   "language": "python",
   "name": "python3"
  },
  "language_info": {
   "codemirror_mode": {
    "name": "ipython",
    "version": 3
   },
   "file_extension": ".py",
   "mimetype": "text/x-python",
   "name": "python",
   "nbconvert_exporter": "python",
   "pygments_lexer": "ipython3",
   "version": "3.9.5"
  }
 },
 "nbformat": 4,
 "nbformat_minor": 5
}
